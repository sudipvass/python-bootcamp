{
 "cells": [
  {
   "cell_type": "markdown",
   "id": "9f633cb9",
   "metadata": {},
   "source": [
    "<img src = CodroidHubLogo.jpeg width = 200 height =200 align = \"left\">\n",
    "<img src = PythonLogo.png width = 200 height =200 align = \"right\"> \n",
    "<h1 style=\"font-family:verdana;\"> <center>📚 Module - 1: Python Variables 📚</center> </h1>\n",
    "<p><h3> <center style=\"color:#0e9ee1; font-family:calibri;\">Unlock Your Potential with CodroidHub Private Limited: Educational Solutions Tailored to you</center>"
   ]
  },
  {
   "cell_type": "markdown",
   "id": "9acbeb3f",
   "metadata": {},
   "source": [
    "## Variable"
   ]
  },
  {
   "cell_type": "markdown",
   "id": "3e350b4f",
   "metadata": {},
   "source": [
    "A variable is a fundamental concept in any programming language. It is a reserved memory location that stores and manipulates data."
   ]
  },
  {
   "cell_type": "markdown",
   "id": "8a719f0b",
   "metadata": {},
   "source": [
    "* Python is completely object oriented, and not \"statically typed\". \n",
    "* You do not need to declare variables before using them, or declare their type. \n",
    "* Every variable in Python is an object."
   ]
  },
  {
   "cell_type": "code",
   "execution_count": 13,
   "id": "8a01f9cf",
   "metadata": {},
   "outputs": [],
   "source": [
    "# Declare a varibale with following names: 19Codroidhub, Codroid-Hub, Codroid Hub \n"
   ]
  },
  {
   "cell_type": "code",
   "execution_count": 14,
   "id": "dc7c5a2e",
   "metadata": {},
   "outputs": [],
   "source": [
    "# Declaring variables of integer type with name myvariable and Myvariable. Justify answer with error\n"
   ]
  },
  {
   "cell_type": "markdown",
   "id": "019e6f6b",
   "metadata": {},
   "source": [
    "## Variable Names"
   ]
  },
  {
   "cell_type": "markdown",
   "id": "09c7986e",
   "metadata": {},
   "source": [
    "A variable can have descriptive name (age, carname, total_volume). \n",
    "- Rules for Python variables:\n",
    "    - A variable name must start with a letter or the underscore character\n",
    "    - A variable name cannot start with a number\n",
    "    - A variable name can only contain alpha-numeric characters and underscores (A-z, 0-9, and _ )\n",
    "    - Variable names are case-sensitive (age, Age and AGE are three different variables)\n",
    "    - A variable name cannot be any of the Python keywords."
   ]
  },
  {
   "cell_type": "markdown",
   "id": "2b19978b",
   "metadata": {},
   "source": [
    "## Variable Nomenclature"
   ]
  },
  {
   "cell_type": "markdown",
   "id": "7a5a5213",
   "metadata": {},
   "source": [
    "* Camel Case  : Example - codroidHub\n",
    "* Pascal Case : Example - CodroidHub\n",
    "* Snake Case  : Example - codroid_hub "
   ]
  },
  {
   "cell_type": "code",
   "execution_count": 15,
   "id": "1a675e00",
   "metadata": {},
   "outputs": [],
   "source": [
    "# Which nomenclature is followed in writing the variable names?\n"
   ]
  },
  {
   "cell_type": "code",
   "execution_count": null,
   "id": "80121997",
   "metadata": {},
   "outputs": [],
   "source": [
    "# Write variable names using the 3 different nomenclatures.\n"
   ]
  },
  {
   "cell_type": "code",
   "execution_count": null,
   "id": "fbba0330",
   "metadata": {},
   "outputs": [],
   "source": [
    "# Define variable of integer type with name myvariable1 and value 30 | Myvariable with 40\n"
   ]
  },
  {
   "cell_type": "code",
   "execution_count": null,
   "id": "dffebefa",
   "metadata": {},
   "outputs": [],
   "source": [
    "# Is it possible to assign different values to both the variables? Why? Answer in multiline comments\n"
   ]
  },
  {
   "cell_type": "code",
   "execution_count": null,
   "id": "7fb3dd06",
   "metadata": {},
   "outputs": [],
   "source": [
    "# Reassign \"CodroidHub\" as the new value to the variable - myvariable\n"
   ]
  },
  {
   "cell_type": "code",
   "execution_count": null,
   "id": "14efc447",
   "metadata": {},
   "outputs": [],
   "source": [
    "# What will happen if we assign 'CodroidHub' to the variable - myvariable?\n"
   ]
  },
  {
   "cell_type": "code",
   "execution_count": null,
   "id": "3b14ea6d",
   "metadata": {},
   "outputs": [],
   "source": [
    "# Is there any difference between \"CodroiHub\" and 'CodroidHub'?"
   ]
  },
  {
   "cell_type": "code",
   "execution_count": null,
   "id": "60ecc89a",
   "metadata": {},
   "outputs": [],
   "source": [
    "# Is there any difference between \"CodroiHub\" and 'CodroidHub'?\n"
   ]
  },
  {
   "cell_type": "code",
   "execution_count": null,
   "id": "cde1fe39",
   "metadata": {},
   "outputs": [],
   "source": [
    "# Specify the type of myvariable to be string\n"
   ]
  },
  {
   "cell_type": "markdown",
   "id": "9000aec5",
   "metadata": {},
   "source": [
    "## Assigning value/values to a variable"
   ]
  },
  {
   "cell_type": "markdown",
   "id": "e3e397d4",
   "metadata": {},
   "source": [
    "* Single Value - Single Variable\n",
    "* Single Value - Multiple Variable\n",
    "* Multiple Value - Multiple Variable\n",
    "* Unpacking values - Variables"
   ]
  },
  {
   "cell_type": "code",
   "execution_count": null,
   "id": "d4f8a733",
   "metadata": {},
   "outputs": [],
   "source": [
    "# Assign 25.45 to variable \"marks\" which is of float type"
   ]
  },
  {
   "cell_type": "code",
   "execution_count": null,
   "id": "abbab1e8",
   "metadata": {},
   "outputs": [],
   "source": [
    "# Assign school name for following students [Amit, Sonal, Lucky, Jeetu] to \"Gyan Vidhya Mandir\""
   ]
  },
  {
   "cell_type": "code",
   "execution_count": null,
   "id": "1f656a7a",
   "metadata": {},
   "outputs": [],
   "source": [
    "# Assign marks of subjects English, Hindi, Maths, Physics, Chemistry to 60,90,80,70,90 "
   ]
  },
  {
   "cell_type": "code",
   "execution_count": null,
   "id": "61bf6d0c",
   "metadata": {},
   "outputs": [],
   "source": [
    "# Assign Toppers List [Lucky, Jeetu, Sonal] to Rank1, Rank2, Rank3"
   ]
  },
  {
   "cell_type": "markdown",
   "id": "0af0c9d7",
   "metadata": {},
   "source": [
    "## Printing value of Variables"
   ]
  },
  {
   "cell_type": "markdown",
   "id": "9f6f82dd",
   "metadata": {},
   "source": [
    "* print() - often used to output variables\n",
    "* print() with comma\n",
    "* print() with + operator\n",
    "* print() with different data types"
   ]
  },
  {
   "cell_type": "code",
   "execution_count": null,
   "id": "d91caab8",
   "metadata": {},
   "outputs": [],
   "source": [
    "# Print the value of variable marks"
   ]
  },
  {
   "cell_type": "code",
   "execution_count": null,
   "id": "d63cc830",
   "metadata": {},
   "outputs": [],
   "source": [
    "# Print the Rank Holders i.e Student Name with Rank1, Rank2 and Rank3 using a single print()"
   ]
  },
  {
   "cell_type": "code",
   "execution_count": null,
   "id": "a23499bb",
   "metadata": {},
   "outputs": [],
   "source": [
    "# Print the following output: The first rank goes to \"replace with student name\""
   ]
  },
  {
   "cell_type": "code",
   "execution_count": null,
   "id": "1aee38e2",
   "metadata": {},
   "outputs": [],
   "source": [
    "# Print the Rank and Total Marks of Rank1 (Case 1 - Using + operator)Justify your answer"
   ]
  },
  {
   "cell_type": "code",
   "execution_count": null,
   "id": "7189535b",
   "metadata": {},
   "outputs": [],
   "source": [
    "# Print the Rank and Total Marks of Rank1 (Case 1 - Using , operator)Justify your answer"
   ]
  },
  {
   "cell_type": "markdown",
   "id": "d2e92148",
   "metadata": {},
   "source": [
    "## Global Variables"
   ]
  },
  {
   "cell_type": "markdown",
   "id": "a3cdd230",
   "metadata": {},
   "source": [
    "* Variables created outside function\n",
    "* Accessible to all parts of the program"
   ]
  },
  {
   "cell_type": "markdown",
   "id": "e51987b2",
   "metadata": {},
   "source": [
    "* Global Variable within function\n",
    "* Global and Local Variable with same name\n",
    "* Global Keyword\n",
    "* Accessing Global Variable inside function"
   ]
  },
  {
   "cell_type": "code",
   "execution_count": 4,
   "id": "a49b4b67",
   "metadata": {},
   "outputs": [
    {
     "name": "stdout",
     "output_type": "stream",
     "text": [
      "WelcometoCodroidHub\n"
     ]
    }
   ],
   "source": [
    "# Run this code to understand Global Variables\n",
    "company = \"CodroidHub\"\n",
    "\n",
    "def myfirstcourse():\n",
    "  print(\"Welcome to\" + company)\n",
    "\n",
    "myfirstcourse()"
   ]
  },
  {
   "cell_type": "code",
   "execution_count": 5,
   "id": "21ba1aad",
   "metadata": {},
   "outputs": [
    {
     "name": "stdout",
     "output_type": "stream",
     "text": [
      "Python is CodroidHub Pvt. Ltd.\n",
      "Python is CodroidHub\n"
     ]
    }
   ],
   "source": [
    "# Mention in comment what is done in this code/ How this code differs from above one?\n",
    "# Discuss about the both print() statements.\n",
    "company = \"CodroidHub\"\n",
    "\n",
    "def myfirstcourse():\n",
    "  company = \"CodroidHub Pvt. Ltd.\"\n",
    "  print(\"Python is \" + company)\n",
    "\n",
    "myfirstcourse()\n",
    "\n",
    "print(\"Python is \" + company)"
   ]
  },
  {
   "cell_type": "code",
   "execution_count": 6,
   "id": "1cfb373a",
   "metadata": {},
   "outputs": [
    {
     "name": "stdout",
     "output_type": "stream",
     "text": [
      "Python is CodroidHub\n"
     ]
    }
   ],
   "source": [
    "# Share your thoughts and understanding \n",
    "\n",
    "def myfirstcourse():\n",
    "  global company\n",
    "  company = \"CodroidHub\"\n",
    "\n",
    "myfirstcourse()\n",
    "\n",
    "print(\"Python is \" + company)"
   ]
  },
  {
   "cell_type": "code",
   "execution_count": 1,
   "id": "024020b4",
   "metadata": {},
   "outputs": [
    {
     "name": "stdout",
     "output_type": "stream",
     "text": [
      "Python is CodroidHub Pvt. Ltd.\n"
     ]
    },
    {
     "data": {
      "text/plain": [
       "'\\nAdd you understanding here\\n\\n'"
      ]
     },
     "execution_count": 1,
     "metadata": {},
     "output_type": "execute_result"
    }
   ],
   "source": [
    "# Share your thoughts and understanding \n",
    "\n",
    "company = \"CodroidHub\"\n",
    "\n",
    "def myfunc():\n",
    "  global company\n",
    "  company = \"CodroidHub Pvt. Ltd.\"\n",
    "\n",
    "myfunc()\n",
    "\n",
    "print(\"Python is \" + company)\n",
    "\n",
    "\n",
    "\"\"\"\n",
    "Add you understanding here\n",
    "\n",
    "\"\"\""
   ]
  },
  {
   "cell_type": "markdown",
   "id": "4bd95457",
   "metadata": {},
   "source": [
    "#### Exercise: "
   ]
  },
  {
   "cell_type": "markdown",
   "id": "f2438677",
   "metadata": {},
   "source": [
    "The target of this exercise is to create a string, an integer, and a floating point number. The string should be named mystring and should contain the word \"your name\". The floating point number should be named myfloat and should contain the number 530.008, and the integer should be named myint and should contain your phone number."
   ]
  },
  {
   "cell_type": "code",
   "execution_count": null,
   "id": "d595b035",
   "metadata": {},
   "outputs": [],
   "source": []
  }
 ],
 "metadata": {
  "kernelspec": {
   "display_name": "Python 3 (ipykernel)",
   "language": "python",
   "name": "python3"
  },
  "language_info": {
   "codemirror_mode": {
    "name": "ipython",
    "version": 3
   },
   "file_extension": ".py",
   "mimetype": "text/x-python",
   "name": "python",
   "nbconvert_exporter": "python",
   "pygments_lexer": "ipython3",
   "version": "3.11.5"
  }
 },
 "nbformat": 4,
 "nbformat_minor": 5
}
