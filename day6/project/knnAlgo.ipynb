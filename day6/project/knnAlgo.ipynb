{
 "cells": [
  {
   "cell_type": "markdown",
   "id": "ca7b8318",
   "metadata": {},
   "source": [
    "<h1 style = \"color:blue\"><center>Shopping Basket Recommendation System with Python </center></h1>\n"
   ]
  },
  {
   "cell_type": "markdown",
   "id": "ff43d502",
   "metadata": {},
   "source": [
    " <h1 style =\"color:green;text-decoration:underline\"> KNN Algorithm</h1>\n",
    " <p>"
   ]
  },
  {
   "cell_type": "code",
   "execution_count": null,
   "id": "8871da0d",
   "metadata": {},
   "outputs": [],
   "source": [
    "import numpy as np\n",
    "import pandas as pd\n",
    "import matplotlib.pyplot as plt"
   ]
  },
  {
   "cell_type": "code",
   "execution_count": null,
   "id": "9fabd1db",
   "metadata": {},
   "outputs": [],
   "source": [
    "electronic_data = pd.read_csv(\"rating_electronics.csv\")"
   ]
  },
  {
   "cell_type": "code",
   "execution_count": null,
   "id": "a0ebd97e",
   "metadata": {},
   "outputs": [],
   "source": [
    "electronic_data"
   ]
  },
  {
   "cell_type": "code",
   "execution_count": null,
   "id": "accf3997",
   "metadata": {},
   "outputs": [],
   "source": [
    "electronic_data = pd.read_csv(r\"rating_electronics.csv\",names =['userID','productId','Rating','Timestamp'])"
   ]
  },
  {
   "cell_type": "code",
   "execution_count": null,
   "id": "0a9ff174",
   "metadata": {},
   "outputs": [],
   "source": [
    "electronic_data"
   ]
  },
  {
   "cell_type": "code",
   "execution_count": null,
   "id": "7f848127",
   "metadata": {},
   "outputs": [],
   "source": [
    "electronic_data.head(5)"
   ]
  },
  {
   "cell_type": "code",
   "execution_count": null,
   "id": "8b619305",
   "metadata": {},
   "outputs": [],
   "source": [
    "electronic_data.tail(10)"
   ]
  },
  {
   "cell_type": "code",
   "execution_count": null,
   "id": "a7d8b66f",
   "metadata": {},
   "outputs": [],
   "source": [
    "electronic_data.iloc[10:21]"
   ]
  },
  {
   "cell_type": "code",
   "execution_count": null,
   "id": "bee00f76",
   "metadata": {},
   "outputs": [],
   "source": [
    "mask = (electronic_data.index >10) & (electronic_data.index <= 20)"
   ]
  },
  {
   "cell_type": "code",
   "execution_count": null,
   "id": "8c913a54",
   "metadata": {},
   "outputs": [],
   "source": [
    "mask"
   ]
  },
  {
   "cell_type": "code",
   "execution_count": null,
   "id": "cf3c50b7",
   "metadata": {},
   "outputs": [],
   "source": [
    "electronic_data[mask]"
   ]
  },
  {
   "cell_type": "code",
   "execution_count": null,
   "id": "ea3e0e78",
   "metadata": {},
   "outputs": [],
   "source": [
    "electronic_data.loc[11:20]"
   ]
  },
  {
   "cell_type": "code",
   "execution_count": null,
   "id": "fefedcf2",
   "metadata": {},
   "outputs": [],
   "source": [
    "electronic_data.shape"
   ]
  },
  {
   "cell_type": "code",
   "execution_count": null,
   "id": "08d6737f",
   "metadata": {},
   "outputs": [],
   "source": [
    "electronic_data.shape[0]"
   ]
  },
  {
   "cell_type": "code",
   "execution_count": null,
   "id": "87652c52",
   "metadata": {},
   "outputs": [],
   "source": [
    "electronic_data.shape[1]"
   ]
  },
  {
   "cell_type": "code",
   "execution_count": null,
   "id": "6d4fa5e7",
   "metadata": {},
   "outputs": [],
   "source": [
    "e_data = electronic_data.iloc[:101234,0:]\n",
    "e_data"
   ]
  },
  {
   "cell_type": "code",
   "execution_count": null,
   "id": "9f4711b1",
   "metadata": {},
   "outputs": [],
   "source": [
    " electronic_data.iloc[:101234, 2:] # row and column slicing first value represent row slicing and second value represent columns slicing"
   ]
  },
  {
   "cell_type": "code",
   "execution_count": null,
   "id": "8484045a",
   "metadata": {},
   "outputs": [],
   "source": [
    "electronic_data.dtypes"
   ]
  },
  {
   "cell_type": "code",
   "execution_count": null,
   "id": "8d84565f",
   "metadata": {},
   "outputs": [],
   "source": [
    "type(electronic_data)"
   ]
  },
  {
   "cell_type": "code",
   "execution_count": null,
   "id": "4be0a8a2",
   "metadata": {},
   "outputs": [],
   "source": [
    "electronic_data.info()"
   ]
  },
  {
   "cell_type": "code",
   "execution_count": null,
   "id": "ea44a4ee",
   "metadata": {},
   "outputs": [],
   "source": [
    "electronic_data.describe()"
   ]
  },
  {
   "cell_type": "code",
   "execution_count": null,
   "id": "a6c77bd6",
   "metadata": {},
   "outputs": [],
   "source": [
    "electronic_data[\"Rating\"].min() #find out the minimum rating\n"
   ]
  },
  {
   "cell_type": "code",
   "execution_count": null,
   "id": "3648b277",
   "metadata": {},
   "outputs": [],
   "source": [
    "electronic_data[\"Rating\"].max()  #find out the maximum rating"
   ]
  },
  {
   "cell_type": "code",
   "execution_count": null,
   "id": "4e6c4d47",
   "metadata": {},
   "outputs": [],
   "source": [
    "electronic_data.Rating.min()"
   ]
  },
  {
   "cell_type": "code",
   "execution_count": null,
   "id": "e2ef83cf",
   "metadata": {},
   "outputs": [],
   "source": [
    "print(\"TOtal Data\")\n",
    "print(\"-\"*50)\n",
    "print(\"\\nTotal no of ratings:\",electronic_data.shape[0])\n",
    "print(\"Total no of users :\",len(np.unique(electronic_data.userID)))\n",
    "print(\"Total no of users :\",len(np.unique(electronic_data.productId)))"
   ]
  },
  {
   "cell_type": "code",
   "execution_count": null,
   "id": "5fbc0e7f",
   "metadata": {},
   "outputs": [],
   "source": [
    "#electronic_data.drop(['Timestamp'],axis=1)"
   ]
  },
  {
   "cell_type": "code",
   "execution_count": null,
   "id": "42cd393f",
   "metadata": {},
   "outputs": [],
   "source": [
    "u_data= electronic_data.groupby('userID')['Rating'].count().sort_values(ascending=False)"
   ]
  },
  {
   "cell_type": "code",
   "execution_count": null,
   "id": "e9906cb8",
   "metadata": {},
   "outputs": [],
   "source": [
    "u_data.head()\n"
   ]
  },
  {
   "cell_type": "code",
   "execution_count": null,
   "id": "eb53ab07",
   "metadata": {},
   "outputs": [],
   "source": [
    "p_data  = electronic_data.groupby('productId')['Rating'].min()"
   ]
  },
  {
   "cell_type": "code",
   "execution_count": null,
   "id": "e97ba3b9",
   "metadata": {},
   "outputs": [],
   "source": [
    "p_data.head()"
   ]
  },
  {
   "cell_type": "code",
   "execution_count": null,
   "id": "c23d92a2",
   "metadata": {},
   "outputs": [],
   "source": [
    "p_data  = electronic_data.groupby('productId')['Rating'].count().sort_values(ascending = False)"
   ]
  },
  {
   "cell_type": "code",
   "execution_count": null,
   "id": "632fb914",
   "metadata": {},
   "outputs": [],
   "source": [
    "p_data.head()"
   ]
  },
  {
   "cell_type": "code",
   "execution_count": null,
   "id": "15bf14b5",
   "metadata": {},
   "outputs": [],
   "source": [
    "p_data  = electronic_data.groupby('productId')['Rating'].max().sort_values(ascending = False)"
   ]
  },
  {
   "cell_type": "code",
   "execution_count": null,
   "id": "40509427",
   "metadata": {},
   "outputs": [],
   "source": [
    "p_data.head()"
   ]
  },
  {
   "cell_type": "code",
   "execution_count": null,
   "id": "748c2f20",
   "metadata": {},
   "outputs": [],
   "source": [
    "import surprise\n",
    "from surprise import KNNWithMeans\n",
    "from surprise import Dataset\n",
    "from surprise import accuracy\n",
    "from surprise import Reader\n",
    "import os\n",
    "from surprise.model_selection import train_test_split\n",
    "from sklearn.decomposition import TruncatedSVD"
   ]
  },
  {
   "cell_type": "code",
   "execution_count": null,
   "id": "1155aaed",
   "metadata": {},
   "outputs": [],
   "source": []
  }
 ],
 "metadata": {
  "kernelspec": {
   "display_name": "Python 3 (ipykernel)",
   "language": "python",
   "name": "python3"
  },
  "language_info": {
   "codemirror_mode": {
    "name": "ipython",
    "version": 3
   },
   "file_extension": ".py",
   "mimetype": "text/x-python",
   "name": "python",
   "nbconvert_exporter": "python",
   "pygments_lexer": "ipython3",
   "version": "3.12.2"
  }
 },
 "nbformat": 4,
 "nbformat_minor": 5
}
