{
 "cells": [
  {
   "cell_type": "code",
   "execution_count": 10,
   "id": "2cc0f85c",
   "metadata": {},
   "outputs": [],
   "source": [
    "import numpy as np #importing numpy and giving it a short name or alias as np \n",
    "\n"
   ]
  },
  {
   "cell_type": "code",
   "execution_count": 11,
   "id": "306b46b2",
   "metadata": {},
   "outputs": [],
   "source": [
    "arr1 = np.array([1,2,4,5,6,78,8])\n"
   ]
  },
  {
   "cell_type": "code",
   "execution_count": 14,
   "id": "de60f676",
   "metadata": {},
   "outputs": [],
   "source": [
    "np.save('file1',arr1)"
   ]
  },
  {
   "cell_type": "code",
   "execution_count": 16,
   "id": "2f9305b6",
   "metadata": {},
   "outputs": [],
   "source": [
    "arr2=np.load('file1.npy')"
   ]
  },
  {
   "cell_type": "code",
   "execution_count": 17,
   "id": "106f7c8a",
   "metadata": {},
   "outputs": [
    {
     "data": {
      "text/plain": [
       "array([ 1,  2,  4,  5,  6, 78,  8])"
      ]
     },
     "execution_count": 17,
     "metadata": {},
     "output_type": "execute_result"
    }
   ],
   "source": [
    "arr2"
   ]
  }
 ],
 "metadata": {
  "kernelspec": {
   "display_name": "Python 3 (ipykernel)",
   "language": "python",
   "name": "python3"
  },
  "language_info": {
   "codemirror_mode": {
    "name": "ipython",
    "version": 3
   },
   "file_extension": ".py",
   "mimetype": "text/x-python",
   "name": "python",
   "nbconvert_exporter": "python",
   "pygments_lexer": "ipython3",
   "version": "3.12.2"
  }
 },
 "nbformat": 4,
 "nbformat_minor": 5
}
