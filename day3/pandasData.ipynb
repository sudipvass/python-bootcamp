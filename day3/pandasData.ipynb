{
 "cells": [
  {
   "cell_type": "code",
   "execution_count": 1,
   "id": "57c07d41",
   "metadata": {},
   "outputs": [],
   "source": [
    "import numpy as np"
   ]
  },
  {
   "cell_type": "code",
   "execution_count": 2,
   "id": "98f9005c",
   "metadata": {},
   "outputs": [],
   "source": [
    "import pandas as pd"
   ]
  },
  {
   "cell_type": "code",
   "execution_count": 3,
   "id": "eef6d601",
   "metadata": {},
   "outputs": [],
   "source": [
    "arr1 = np.array([[1,2,3,4],[5,6,7,8],[9,10,11,12],[13,14,15,16]]) # creating np Array"
   ]
  },
  {
   "cell_type": "code",
   "execution_count": 4,
   "id": "9ba4eff3",
   "metadata": {},
   "outputs": [],
   "source": [
    "df = pd.DataFrame(arr1)  # converting the np array into DataFrame"
   ]
  },
  {
   "cell_type": "code",
   "execution_count": 9,
   "id": "6c814fb2",
   "metadata": {},
   "outputs": [
    {
     "name": "stdout",
     "output_type": "stream",
     "text": [
      "    0   1   2   3\n",
      "0   1   2   3   4\n",
      "1   5   6   7   8\n",
      "2   9  10  11  12\n",
      "3  13  14  15  16\n"
     ]
    }
   ],
   "source": [
    "print(df)  # printin the Data frame"
   ]
  },
  {
   "cell_type": "code",
   "execution_count": 5,
   "id": "940330c6",
   "metadata": {},
   "outputs": [],
   "source": [
    "df.to_csv(\"file1.csv\")  # converting the DataFrame into csv file "
   ]
  },
  {
   "cell_type": "code",
   "execution_count": 7,
   "id": "c812ca4d",
   "metadata": {},
   "outputs": [],
   "source": [
    "new_df = pd.read_csv(\"file1.csv\")  # reading csv file "
   ]
  },
  {
   "cell_type": "code",
   "execution_count": 8,
   "id": "8af7b51f",
   "metadata": {},
   "outputs": [
    {
     "name": "stdout",
     "output_type": "stream",
     "text": [
      "   Unnamed: 0   0   1   2   3\n",
      "0           0   1   2   3   4\n",
      "1           1   5   6   7   8\n",
      "2           2   9  10  11  12\n",
      "3           3  13  14  15  16\n"
     ]
    }
   ],
   "source": [
    "print(new_df)"
   ]
  },
  {
   "cell_type": "code",
   "execution_count": null,
   "id": "24241e39",
   "metadata": {},
   "outputs": [],
   "source": []
  }
 ],
 "metadata": {
  "kernelspec": {
   "display_name": "Python 3 (ipykernel)",
   "language": "python",
   "name": "python3"
  },
  "language_info": {
   "codemirror_mode": {
    "name": "ipython",
    "version": 3
   },
   "file_extension": ".py",
   "mimetype": "text/x-python",
   "name": "python",
   "nbconvert_exporter": "python",
   "pygments_lexer": "ipython3",
   "version": "3.11.5"
  }
 },
 "nbformat": 4,
 "nbformat_minor": 5
}
