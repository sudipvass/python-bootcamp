{
 "cells": [
  {
   "cell_type": "code",
   "execution_count": 9,
   "id": "7b5db5f1",
   "metadata": {},
   "outputs": [
    {
     "data": {
      "text/plain": [
       "array([55,  4,  6,  3])"
      ]
     },
     "execution_count": 9,
     "metadata": {},
     "output_type": "execute_result"
    }
   ],
   "source": [
    "import numpy as np \n",
    "numbers = np.array([55,4,6,3])\n",
    "#print(numbers)\n",
    "numbers\n"
   ]
  },
  {
   "cell_type": "code",
   "execution_count": 11,
   "id": "a3eeef28",
   "metadata": {},
   "outputs": [
    {
     "data": {
      "text/plain": [
       "array([2, 3, 4, 5, 6, 7, 8])"
      ]
     },
     "execution_count": 11,
     "metadata": {},
     "output_type": "execute_result"
    }
   ],
   "source": [
    "np1 = np.array([2,3,4,5,6,7,8])\n",
    "np1"
   ]
  },
  {
   "cell_type": "code",
   "execution_count": 57,
   "id": "fce83d02",
   "metadata": {},
   "outputs": [
    {
     "name": "stdout",
     "output_type": "stream",
     "text": [
      "3\n",
      "12\n",
      "(3, 2, 2)\n",
      "[[ 1  2  3  4]\n",
      " [ 5  6  7  8]\n",
      " [ 9 10 10 11]]\n"
     ]
    }
   ],
   "source": [
    "import numpy as np\n",
    "np1 = np.array([1,2,3])\n",
    "np2 = np.array([[2,3,4],[5,6,70],[9,8,1]])\n",
    "np3 = np.array([[[1,2],[3,4]],[[5,6],[7,8]],[[9,10],[10,11]]])\n",
    "print(np3.ndim)\n",
    "print(np3.size)\n",
    "print(np3.shape)\n",
    "np4 = np3.reshape(3,4)\n",
    "print(np4)\n",
    "#print(np1)\n",
    "#print(np2)\n",
    "#print(np3)"
   ]
  },
  {
   "cell_type": "code",
   "execution_count": 23,
   "id": "a0c7745b",
   "metadata": {},
   "outputs": [
    {
     "data": {
      "text/plain": [
       "array([0, 1, 2, 3, 4, 5, 6, 7, 8, 9])"
      ]
     },
     "execution_count": 23,
     "metadata": {},
     "output_type": "execute_result"
    }
   ],
   "source": [
    "np.arange(10)"
   ]
  },
  {
   "cell_type": "code",
   "execution_count": 24,
   "id": "f748d2fb",
   "metadata": {},
   "outputs": [
    {
     "data": {
      "text/plain": [
       "array([0., 0., 0., 0.])"
      ]
     },
     "execution_count": 24,
     "metadata": {},
     "output_type": "execute_result"
    }
   ],
   "source": [
    "np.zeros(4)"
   ]
  },
  {
   "cell_type": "code",
   "execution_count": 25,
   "id": "ece7deb8",
   "metadata": {},
   "outputs": [
    {
     "data": {
      "text/plain": [
       "array([0., 0., 0., 0.])"
      ]
     },
     "execution_count": 25,
     "metadata": {},
     "output_type": "execute_result"
    }
   ],
   "source": [
    "np.empty(4)"
   ]
  },
  {
   "cell_type": "code",
   "execution_count": 27,
   "id": "30d63553",
   "metadata": {},
   "outputs": [
    {
     "data": {
      "text/plain": [
       "array([0, 1, 1, 2, 4, 5, 7])"
      ]
     },
     "execution_count": 27,
     "metadata": {},
     "output_type": "execute_result"
    }
   ],
   "source": [
    "arr = np.array([1,2,4,5,7,0,1])\n",
    "np.sort(arr)"
   ]
  },
  {
   "cell_type": "code",
   "execution_count": 28,
   "id": "d95a0107",
   "metadata": {},
   "outputs": [
    {
     "data": {
      "text/plain": [
       "numpy.ndarray"
      ]
     },
     "execution_count": 28,
     "metadata": {},
     "output_type": "execute_result"
    }
   ],
   "source": [
    "np8 = np.array([2,3,5,6,7,9])\n",
    "type(np8)"
   ]
  },
  {
   "cell_type": "code",
   "execution_count": 29,
   "id": "d207b6d7",
   "metadata": {},
   "outputs": [
    {
     "data": {
      "text/plain": [
       "array([ 0. ,  2.5,  5. ,  7.5, 10. ])"
      ]
     },
     "execution_count": 29,
     "metadata": {},
     "output_type": "execute_result"
    }
   ],
   "source": [
    "np.linspace(0,10,num = 5)"
   ]
  },
  {
   "cell_type": "code",
   "execution_count": 41,
   "id": "c7a072b9",
   "metadata": {},
   "outputs": [
    {
     "data": {
      "text/plain": [
       "array([ 1,  5,  2,  0,  8,  7,  3, 10, 11, 12, 13, 14])"
      ]
     },
     "execution_count": 41,
     "metadata": {},
     "output_type": "execute_result"
    }
   ],
   "source": [
    "arr2  = np.array([1,5,2,0,8,7,3])\n",
    "arr3 = np.array([10,11,12,13,14])\n",
    "np.concatenate((arr2,arr3),axis = 0)\n",
    "np.concatenate((arr2,arr3))"
   ]
  },
  {
   "cell_type": "code",
   "execution_count": null,
   "id": "5e208f76",
   "metadata": {},
   "outputs": [],
   "source": []
  }
 ],
 "metadata": {
  "kernelspec": {
   "display_name": "Python 3 (ipykernel)",
   "language": "python",
   "name": "python3"
  },
  "language_info": {
   "codemirror_mode": {
    "name": "ipython",
    "version": 3
   },
   "file_extension": ".py",
   "mimetype": "text/x-python",
   "name": "python",
   "nbconvert_exporter": "python",
   "pygments_lexer": "ipython3",
   "version": "3.11.5"
  }
 },
 "nbformat": 4,
 "nbformat_minor": 5
}
