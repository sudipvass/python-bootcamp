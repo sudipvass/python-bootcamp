{
 "cells": [
  {
   "cell_type": "markdown",
   "id": "814ba990",
   "metadata": {},
   "source": [
    "### Check Prime Number in a Given Range"
   ]
  },
  {
   "cell_type": "code",
   "execution_count": null,
   "id": "976975e2",
   "metadata": {},
   "outputs": [],
   "source": [
    "import rangePrime\n",
    "rangePrime.prime_Numbers(10,23)"
   ]
  },
  {
   "cell_type": "code",
   "execution_count": null,
   "id": "d6063711",
   "metadata": {},
   "outputs": [],
   "source": [
    "import prime\n",
    "prime.is_prime(20)"
   ]
  },
  {
   "cell_type": "markdown",
   "id": "3cade240",
   "metadata": {},
   "source": [
    "## Check if a given number is odd \n",
    "## Check odd number in a given range "
   ]
  },
  {
   "cell_type": "code",
   "execution_count": null,
   "id": "09b837b4",
   "metadata": {},
   "outputs": [],
   "source": [
    "import odd\n",
    "odd.checkOdd(3)"
   ]
  },
  {
   "cell_type": "code",
   "execution_count": null,
   "id": "eceff603",
   "metadata": {},
   "outputs": [],
   "source": [
    "import oddRange\n",
    "oddRange.odd_numbers(20,31)"
   ]
  },
  {
   "cell_type": "markdown",
   "id": "421e7864",
   "metadata": {},
   "source": [
    "### check if a given number is even or not \n",
    "### check even number in a given range "
   ]
  },
  {
   "cell_type": "code",
   "execution_count": null,
   "id": "f17a66f2",
   "metadata": {},
   "outputs": [],
   "source": [
    "import even\n",
    "even.checkEven(9)"
   ]
  },
  {
   "cell_type": "code",
   "execution_count": 1,
   "id": "093af798",
   "metadata": {},
   "outputs": [
    {
     "name": "stdout",
     "output_type": "stream",
     "text": [
      "[0, 2, 4, 6, 8, 10, 12, 14, 16, 18, 20]\n"
     ]
    }
   ],
   "source": [
    "import evenRange\n",
    "evenRange.EvenNumbers(0,20)"
   ]
  },
  {
   "cell_type": "markdown",
   "id": "fb5e95b7",
   "metadata": {},
   "source": [
    "### Finding the Factorial of a number"
   ]
  },
  {
   "cell_type": "code",
   "execution_count": 5,
   "id": "5d1d5734",
   "metadata": {},
   "outputs": [
    {
     "data": {
      "text/plain": [
       "120"
      ]
     },
     "execution_count": 5,
     "metadata": {},
     "output_type": "execute_result"
    }
   ],
   "source": [
    "def factorial(num):\n",
    "    result =1 \n",
    "    for i in range (2,num+1):\n",
    "        result *= i\n",
    "    return(result)\n",
    "factorial(5)"
   ]
  },
  {
   "cell_type": "code",
   "execution_count": 3,
   "id": "b4b3385b",
   "metadata": {},
   "outputs": [
    {
     "data": {
      "text/plain": [
       "24"
      ]
     },
     "execution_count": 3,
     "metadata": {},
     "output_type": "execute_result"
    }
   ],
   "source": [
    "import factorial\n",
    "factorial.factorial(4)"
   ]
  },
  {
   "cell_type": "markdown",
   "id": "db0115a7",
   "metadata": {},
   "source": [
    "### Fibonacci Series"
   ]
  },
  {
   "cell_type": "code",
   "execution_count": 4,
   "id": "4f891ce8",
   "metadata": {},
   "outputs": [
    {
     "name": "stdout",
     "output_type": "stream",
     "text": [
      "0 1 1 2 3 \n"
     ]
    }
   ],
   "source": [
    "import fibo\n",
    "fibo.fib(5)"
   ]
  }
 ],
 "metadata": {
  "kernelspec": {
   "display_name": "Python 3 (ipykernel)",
   "language": "python",
   "name": "python3"
  },
  "language_info": {
   "codemirror_mode": {
    "name": "ipython",
    "version": 3
   },
   "file_extension": ".py",
   "mimetype": "text/x-python",
   "name": "python",
   "nbconvert_exporter": "python",
   "pygments_lexer": "ipython3",
   "version": "3.11.5"
  }
 },
 "nbformat": 4,
 "nbformat_minor": 5
}
